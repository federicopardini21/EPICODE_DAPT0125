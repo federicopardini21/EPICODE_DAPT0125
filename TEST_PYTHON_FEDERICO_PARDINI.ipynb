{
 "cells": [
  {
   "cell_type": "code",
   "execution_count": 5,
   "id": "2d42add6-96b6-4314-aa72-a0d7016ed271",
   "metadata": {},
   "outputs": [],
   "source": [
    "import pandas as pd"
   ]
  },
  {
   "cell_type": "code",
   "execution_count": 17,
   "id": "df544c41-b625-4848-88ae-19b3e8d25fa5",
   "metadata": {},
   "outputs": [],
   "source": [
    "# 1. Si richiede di verificare le dimensioni del dataset e i relativi metadati"
   ]
  },
  {
   "cell_type": "code",
   "execution_count": 6,
   "id": "54054d92-814b-48f3-a7bc-748dab021c92",
   "metadata": {},
   "outputs": [],
   "source": [
    "df = pd.read_csv('owid-covid-data.csv')"
   ]
  },
  {
   "cell_type": "code",
   "execution_count": 7,
   "id": "0c2669be-8855-41ab-8bdc-cf074bab9e5f",
   "metadata": {},
   "outputs": [
    {
     "name": "stdout",
     "output_type": "stream",
     "text": [
      "dimensioni del dataset (429435, 67)\n"
     ]
    }
   ],
   "source": [
    "print('dimensioni del dataset', df.shape)"
   ]
  },
  {
   "cell_type": "code",
   "execution_count": 8,
   "id": "24864167-e4e3-4f33-b166-cad0ab11adeb",
   "metadata": {},
   "outputs": [
    {
     "name": "stdout",
     "output_type": "stream",
     "text": [
      "<class 'pandas.core.frame.DataFrame'>\n",
      "RangeIndex: 429435 entries, 0 to 429434\n",
      "Data columns (total 67 columns):\n",
      " #   Column                                      Non-Null Count   Dtype  \n",
      "---  ------                                      --------------   -----  \n",
      " 0   iso_code                                    429435 non-null  object \n",
      " 1   continent                                   402910 non-null  object \n",
      " 2   location                                    429435 non-null  object \n",
      " 3   date                                        429435 non-null  object \n",
      " 4   total_cases                                 411804 non-null  float64\n",
      " 5   new_cases                                   410159 non-null  float64\n",
      " 6   new_cases_smoothed                          408929 non-null  float64\n",
      " 7   total_deaths                                411804 non-null  float64\n",
      " 8   new_deaths                                  410608 non-null  float64\n",
      " 9   new_deaths_smoothed                         409378 non-null  float64\n",
      " 10  total_cases_per_million                     411804 non-null  float64\n",
      " 11  new_cases_per_million                       410159 non-null  float64\n",
      " 12  new_cases_smoothed_per_million              408929 non-null  float64\n",
      " 13  total_deaths_per_million                    411804 non-null  float64\n",
      " 14  new_deaths_per_million                      410608 non-null  float64\n",
      " 15  new_deaths_smoothed_per_million             409378 non-null  float64\n",
      " 16  reproduction_rate                           184817 non-null  float64\n",
      " 17  icu_patients                                39116 non-null   float64\n",
      " 18  icu_patients_per_million                    39116 non-null   float64\n",
      " 19  hosp_patients                               40656 non-null   float64\n",
      " 20  hosp_patients_per_million                   40656 non-null   float64\n",
      " 21  weekly_icu_admissions                       10993 non-null   float64\n",
      " 22  weekly_icu_admissions_per_million           10993 non-null   float64\n",
      " 23  weekly_hosp_admissions                      24497 non-null   float64\n",
      " 24  weekly_hosp_admissions_per_million          24497 non-null   float64\n",
      " 25  total_tests                                 79387 non-null   float64\n",
      " 26  new_tests                                   75403 non-null   float64\n",
      " 27  total_tests_per_thousand                    79387 non-null   float64\n",
      " 28  new_tests_per_thousand                      75403 non-null   float64\n",
      " 29  new_tests_smoothed                          103965 non-null  float64\n",
      " 30  new_tests_smoothed_per_thousand             103965 non-null  float64\n",
      " 31  positive_rate                               95927 non-null   float64\n",
      " 32  tests_per_case                              94348 non-null   float64\n",
      " 33  tests_units                                 106788 non-null  object \n",
      " 34  total_vaccinations                          85417 non-null   float64\n",
      " 35  people_vaccinated                           81132 non-null   float64\n",
      " 36  people_fully_vaccinated                     78061 non-null   float64\n",
      " 37  total_boosters                              53600 non-null   float64\n",
      " 38  new_vaccinations                            70971 non-null   float64\n",
      " 39  new_vaccinations_smoothed                   195029 non-null  float64\n",
      " 40  total_vaccinations_per_hundred              85417 non-null   float64\n",
      " 41  people_vaccinated_per_hundred               81132 non-null   float64\n",
      " 42  people_fully_vaccinated_per_hundred         78061 non-null   float64\n",
      " 43  total_boosters_per_hundred                  53600 non-null   float64\n",
      " 44  new_vaccinations_smoothed_per_million       195029 non-null  float64\n",
      " 45  new_people_vaccinated_smoothed              192177 non-null  float64\n",
      " 46  new_people_vaccinated_smoothed_per_hundred  192177 non-null  float64\n",
      " 47  stringency_index                            196190 non-null  float64\n",
      " 48  population_density                          360492 non-null  float64\n",
      " 49  median_age                                  334663 non-null  float64\n",
      " 50  aged_65_older                               323270 non-null  float64\n",
      " 51  aged_70_older                               331315 non-null  float64\n",
      " 52  gdp_per_capita                              328292 non-null  float64\n",
      " 53  extreme_poverty                             211996 non-null  float64\n",
      " 54  cardiovasc_death_rate                       328865 non-null  float64\n",
      " 55  diabetes_prevalence                         345911 non-null  float64\n",
      " 56  female_smokers                              247165 non-null  float64\n",
      " 57  male_smokers                                243817 non-null  float64\n",
      " 58  handwashing_facilities                      161741 non-null  float64\n",
      " 59  hospital_beds_per_thousand                  290689 non-null  float64\n",
      " 60  life_expectancy                             390299 non-null  float64\n",
      " 61  human_development_index                     319127 non-null  float64\n",
      " 62  population                                  429435 non-null  int64  \n",
      " 63  excess_mortality_cumulative_absolute        13411 non-null   float64\n",
      " 64  excess_mortality_cumulative                 13411 non-null   float64\n",
      " 65  excess_mortality                            13411 non-null   float64\n",
      " 66  excess_mortality_cumulative_per_million     13411 non-null   float64\n",
      "dtypes: float64(61), int64(1), object(5)\n",
      "memory usage: 219.5+ MB\n"
     ]
    }
   ],
   "source": [
    "df.info()"
   ]
  },
  {
   "cell_type": "code",
   "execution_count": 6,
   "id": "e5752f24-3025-4181-9e2c-21fdee739036",
   "metadata": {},
   "outputs": [
    {
     "data": {
      "text/plain": [
       "<bound method NDFrame.head of        iso_code continent     location        date  total_cases  new_cases  \\\n",
       "0           AFG      Asia  Afghanistan  2020-01-05          0.0        0.0   \n",
       "1           AFG      Asia  Afghanistan  2020-01-06          0.0        0.0   \n",
       "2           AFG      Asia  Afghanistan  2020-01-07          0.0        0.0   \n",
       "3           AFG      Asia  Afghanistan  2020-01-08          0.0        0.0   \n",
       "4           AFG      Asia  Afghanistan  2020-01-09          0.0        0.0   \n",
       "...         ...       ...          ...         ...          ...        ...   \n",
       "429430      ZWE    Africa     Zimbabwe  2024-07-31     266386.0        0.0   \n",
       "429431      ZWE    Africa     Zimbabwe  2024-08-01     266386.0        0.0   \n",
       "429432      ZWE    Africa     Zimbabwe  2024-08-02     266386.0        0.0   \n",
       "429433      ZWE    Africa     Zimbabwe  2024-08-03     266386.0        0.0   \n",
       "429434      ZWE    Africa     Zimbabwe  2024-08-04     266386.0        0.0   \n",
       "\n",
       "        new_cases_smoothed  total_deaths  new_deaths  new_deaths_smoothed  \\\n",
       "0                      NaN           0.0         0.0                  NaN   \n",
       "1                      NaN           0.0         0.0                  NaN   \n",
       "2                      NaN           0.0         0.0                  NaN   \n",
       "3                      NaN           0.0         0.0                  NaN   \n",
       "4                      NaN           0.0         0.0                  NaN   \n",
       "...                    ...           ...         ...                  ...   \n",
       "429430                 0.0        5740.0         0.0                  0.0   \n",
       "429431                 0.0        5740.0         0.0                  0.0   \n",
       "429432                 0.0        5740.0         0.0                  0.0   \n",
       "429433                 0.0        5740.0         0.0                  0.0   \n",
       "429434                 0.0        5740.0         0.0                  0.0   \n",
       "\n",
       "        ...  male_smokers  handwashing_facilities  hospital_beds_per_thousand  \\\n",
       "0       ...           NaN                  37.746                         0.5   \n",
       "1       ...           NaN                  37.746                         0.5   \n",
       "2       ...           NaN                  37.746                         0.5   \n",
       "3       ...           NaN                  37.746                         0.5   \n",
       "4       ...           NaN                  37.746                         0.5   \n",
       "...     ...           ...                     ...                         ...   \n",
       "429430  ...          30.7                  36.791                         1.7   \n",
       "429431  ...          30.7                  36.791                         1.7   \n",
       "429432  ...          30.7                  36.791                         1.7   \n",
       "429433  ...          30.7                  36.791                         1.7   \n",
       "429434  ...          30.7                  36.791                         1.7   \n",
       "\n",
       "        life_expectancy  human_development_index  population  \\\n",
       "0                 64.83                    0.511    41128772   \n",
       "1                 64.83                    0.511    41128772   \n",
       "2                 64.83                    0.511    41128772   \n",
       "3                 64.83                    0.511    41128772   \n",
       "4                 64.83                    0.511    41128772   \n",
       "...                 ...                      ...         ...   \n",
       "429430            61.49                    0.571    16320539   \n",
       "429431            61.49                    0.571    16320539   \n",
       "429432            61.49                    0.571    16320539   \n",
       "429433            61.49                    0.571    16320539   \n",
       "429434            61.49                    0.571    16320539   \n",
       "\n",
       "        excess_mortality_cumulative_absolute  excess_mortality_cumulative  \\\n",
       "0                                        NaN                          NaN   \n",
       "1                                        NaN                          NaN   \n",
       "2                                        NaN                          NaN   \n",
       "3                                        NaN                          NaN   \n",
       "4                                        NaN                          NaN   \n",
       "...                                      ...                          ...   \n",
       "429430                                   NaN                          NaN   \n",
       "429431                                   NaN                          NaN   \n",
       "429432                                   NaN                          NaN   \n",
       "429433                                   NaN                          NaN   \n",
       "429434                                   NaN                          NaN   \n",
       "\n",
       "        excess_mortality  excess_mortality_cumulative_per_million  \n",
       "0                    NaN                                      NaN  \n",
       "1                    NaN                                      NaN  \n",
       "2                    NaN                                      NaN  \n",
       "3                    NaN                                      NaN  \n",
       "4                    NaN                                      NaN  \n",
       "...                  ...                                      ...  \n",
       "429430               NaN                                      NaN  \n",
       "429431               NaN                                      NaN  \n",
       "429432               NaN                                      NaN  \n",
       "429433               NaN                                      NaN  \n",
       "429434               NaN                                      NaN  \n",
       "\n",
       "[429435 rows x 67 columns]>"
      ]
     },
     "execution_count": 6,
     "metadata": {},
     "output_type": "execute_result"
    }
   ],
   "source": [
    "df.head"
   ]
  },
  {
   "cell_type": "code",
   "execution_count": 7,
   "id": "90382e69-9a2d-4b3e-bcb0-7788a31d0144",
   "metadata": {},
   "outputs": [
    {
     "name": "stdout",
     "output_type": "stream",
     "text": [
      "<class 'pandas.core.frame.DataFrame'>\n",
      "RangeIndex: 429435 entries, 0 to 429434\n",
      "Data columns (total 67 columns):\n",
      " #   Column                                      Non-Null Count   Dtype  \n",
      "---  ------                                      --------------   -----  \n",
      " 0   iso_code                                    429435 non-null  object \n",
      " 1   continent                                   402910 non-null  object \n",
      " 2   location                                    429435 non-null  object \n",
      " 3   date                                        429435 non-null  object \n",
      " 4   total_cases                                 411804 non-null  float64\n",
      " 5   new_cases                                   410159 non-null  float64\n",
      " 6   new_cases_smoothed                          408929 non-null  float64\n",
      " 7   total_deaths                                411804 non-null  float64\n",
      " 8   new_deaths                                  410608 non-null  float64\n",
      " 9   new_deaths_smoothed                         409378 non-null  float64\n",
      " 10  total_cases_per_million                     411804 non-null  float64\n",
      " 11  new_cases_per_million                       410159 non-null  float64\n",
      " 12  new_cases_smoothed_per_million              408929 non-null  float64\n",
      " 13  total_deaths_per_million                    411804 non-null  float64\n",
      " 14  new_deaths_per_million                      410608 non-null  float64\n",
      " 15  new_deaths_smoothed_per_million             409378 non-null  float64\n",
      " 16  reproduction_rate                           184817 non-null  float64\n",
      " 17  icu_patients                                39116 non-null   float64\n",
      " 18  icu_patients_per_million                    39116 non-null   float64\n",
      " 19  hosp_patients                               40656 non-null   float64\n",
      " 20  hosp_patients_per_million                   40656 non-null   float64\n",
      " 21  weekly_icu_admissions                       10993 non-null   float64\n",
      " 22  weekly_icu_admissions_per_million           10993 non-null   float64\n",
      " 23  weekly_hosp_admissions                      24497 non-null   float64\n",
      " 24  weekly_hosp_admissions_per_million          24497 non-null   float64\n",
      " 25  total_tests                                 79387 non-null   float64\n",
      " 26  new_tests                                   75403 non-null   float64\n",
      " 27  total_tests_per_thousand                    79387 non-null   float64\n",
      " 28  new_tests_per_thousand                      75403 non-null   float64\n",
      " 29  new_tests_smoothed                          103965 non-null  float64\n",
      " 30  new_tests_smoothed_per_thousand             103965 non-null  float64\n",
      " 31  positive_rate                               95927 non-null   float64\n",
      " 32  tests_per_case                              94348 non-null   float64\n",
      " 33  tests_units                                 106788 non-null  object \n",
      " 34  total_vaccinations                          85417 non-null   float64\n",
      " 35  people_vaccinated                           81132 non-null   float64\n",
      " 36  people_fully_vaccinated                     78061 non-null   float64\n",
      " 37  total_boosters                              53600 non-null   float64\n",
      " 38  new_vaccinations                            70971 non-null   float64\n",
      " 39  new_vaccinations_smoothed                   195029 non-null  float64\n",
      " 40  total_vaccinations_per_hundred              85417 non-null   float64\n",
      " 41  people_vaccinated_per_hundred               81132 non-null   float64\n",
      " 42  people_fully_vaccinated_per_hundred         78061 non-null   float64\n",
      " 43  total_boosters_per_hundred                  53600 non-null   float64\n",
      " 44  new_vaccinations_smoothed_per_million       195029 non-null  float64\n",
      " 45  new_people_vaccinated_smoothed              192177 non-null  float64\n",
      " 46  new_people_vaccinated_smoothed_per_hundred  192177 non-null  float64\n",
      " 47  stringency_index                            196190 non-null  float64\n",
      " 48  population_density                          360492 non-null  float64\n",
      " 49  median_age                                  334663 non-null  float64\n",
      " 50  aged_65_older                               323270 non-null  float64\n",
      " 51  aged_70_older                               331315 non-null  float64\n",
      " 52  gdp_per_capita                              328292 non-null  float64\n",
      " 53  extreme_poverty                             211996 non-null  float64\n",
      " 54  cardiovasc_death_rate                       328865 non-null  float64\n",
      " 55  diabetes_prevalence                         345911 non-null  float64\n",
      " 56  female_smokers                              247165 non-null  float64\n",
      " 57  male_smokers                                243817 non-null  float64\n",
      " 58  handwashing_facilities                      161741 non-null  float64\n",
      " 59  hospital_beds_per_thousand                  290689 non-null  float64\n",
      " 60  life_expectancy                             390299 non-null  float64\n",
      " 61  human_development_index                     319127 non-null  float64\n",
      " 62  population                                  429435 non-null  int64  \n",
      " 63  excess_mortality_cumulative_absolute        13411 non-null   float64\n",
      " 64  excess_mortality_cumulative                 13411 non-null   float64\n",
      " 65  excess_mortality                            13411 non-null   float64\n",
      " 66  excess_mortality_cumulative_per_million     13411 non-null   float64\n",
      "dtypes: float64(61), int64(1), object(5)\n",
      "memory usage: 219.5+ MB\n"
     ]
    }
   ],
   "source": [
    "df.info()"
   ]
  },
  {
   "cell_type": "code",
   "execution_count": 10,
   "id": "b6a5240a-c4be-4b8a-8c98-737308c2d9a9",
   "metadata": {},
   "outputs": [
    {
     "data": {
      "text/html": [
       "<div>\n",
       "<style scoped>\n",
       "    .dataframe tbody tr th:only-of-type {\n",
       "        vertical-align: middle;\n",
       "    }\n",
       "\n",
       "    .dataframe tbody tr th {\n",
       "        vertical-align: top;\n",
       "    }\n",
       "\n",
       "    .dataframe thead th {\n",
       "        text-align: right;\n",
       "    }\n",
       "</style>\n",
       "<table border=\"1\" class=\"dataframe\">\n",
       "  <thead>\n",
       "    <tr style=\"text-align: right;\">\n",
       "      <th></th>\n",
       "      <th>iso_code</th>\n",
       "      <th>continent</th>\n",
       "      <th>location</th>\n",
       "      <th>date</th>\n",
       "      <th>total_cases</th>\n",
       "      <th>new_cases</th>\n",
       "      <th>new_cases_smoothed</th>\n",
       "      <th>total_deaths</th>\n",
       "      <th>new_deaths</th>\n",
       "      <th>new_deaths_smoothed</th>\n",
       "      <th>...</th>\n",
       "      <th>male_smokers</th>\n",
       "      <th>handwashing_facilities</th>\n",
       "      <th>hospital_beds_per_thousand</th>\n",
       "      <th>life_expectancy</th>\n",
       "      <th>human_development_index</th>\n",
       "      <th>population</th>\n",
       "      <th>excess_mortality_cumulative_absolute</th>\n",
       "      <th>excess_mortality_cumulative</th>\n",
       "      <th>excess_mortality</th>\n",
       "      <th>excess_mortality_cumulative_per_million</th>\n",
       "    </tr>\n",
       "  </thead>\n",
       "  <tbody>\n",
       "    <tr>\n",
       "      <th>114676</th>\n",
       "      <td>EST</td>\n",
       "      <td>Europe</td>\n",
       "      <td>Estonia</td>\n",
       "      <td>2023-02-15</td>\n",
       "      <td>596851.0</td>\n",
       "      <td>0.0</td>\n",
       "      <td>46.857</td>\n",
       "      <td>2801.0</td>\n",
       "      <td>0.0</td>\n",
       "      <td>1.000</td>\n",
       "      <td>...</td>\n",
       "      <td>39.3</td>\n",
       "      <td>NaN</td>\n",
       "      <td>4.69</td>\n",
       "      <td>78.74</td>\n",
       "      <td>0.892</td>\n",
       "      <td>1326064</td>\n",
       "      <td>NaN</td>\n",
       "      <td>NaN</td>\n",
       "      <td>NaN</td>\n",
       "      <td>NaN</td>\n",
       "    </tr>\n",
       "    <tr>\n",
       "      <th>232126</th>\n",
       "      <td>MLI</td>\n",
       "      <td>Africa</td>\n",
       "      <td>Mali</td>\n",
       "      <td>2020-06-03</td>\n",
       "      <td>1248.0</td>\n",
       "      <td>0.0</td>\n",
       "      <td>33.571</td>\n",
       "      <td>76.0</td>\n",
       "      <td>0.0</td>\n",
       "      <td>1.857</td>\n",
       "      <td>...</td>\n",
       "      <td>23.0</td>\n",
       "      <td>52.232</td>\n",
       "      <td>0.10</td>\n",
       "      <td>59.31</td>\n",
       "      <td>0.434</td>\n",
       "      <td>22593598</td>\n",
       "      <td>NaN</td>\n",
       "      <td>NaN</td>\n",
       "      <td>NaN</td>\n",
       "      <td>NaN</td>\n",
       "    </tr>\n",
       "    <tr>\n",
       "      <th>47797</th>\n",
       "      <td>BIH</td>\n",
       "      <td>Europe</td>\n",
       "      <td>Bosnia and Herzegovina</td>\n",
       "      <td>2022-07-04</td>\n",
       "      <td>378845.0</td>\n",
       "      <td>0.0</td>\n",
       "      <td>55.429</td>\n",
       "      <td>15806.0</td>\n",
       "      <td>0.0</td>\n",
       "      <td>1.000</td>\n",
       "      <td>...</td>\n",
       "      <td>47.7</td>\n",
       "      <td>97.164</td>\n",
       "      <td>3.50</td>\n",
       "      <td>77.40</td>\n",
       "      <td>0.780</td>\n",
       "      <td>3233530</td>\n",
       "      <td>NaN</td>\n",
       "      <td>NaN</td>\n",
       "      <td>NaN</td>\n",
       "      <td>NaN</td>\n",
       "    </tr>\n",
       "    <tr>\n",
       "      <th>189535</th>\n",
       "      <td>JPN</td>\n",
       "      <td>Asia</td>\n",
       "      <td>Japan</td>\n",
       "      <td>2022-07-02</td>\n",
       "      <td>9253386.0</td>\n",
       "      <td>0.0</td>\n",
       "      <td>14807.571</td>\n",
       "      <td>31139.0</td>\n",
       "      <td>0.0</td>\n",
       "      <td>13.429</td>\n",
       "      <td>...</td>\n",
       "      <td>33.7</td>\n",
       "      <td>NaN</td>\n",
       "      <td>13.05</td>\n",
       "      <td>84.63</td>\n",
       "      <td>0.919</td>\n",
       "      <td>123951696</td>\n",
       "      <td>NaN</td>\n",
       "      <td>NaN</td>\n",
       "      <td>NaN</td>\n",
       "      <td>NaN</td>\n",
       "    </tr>\n",
       "    <tr>\n",
       "      <th>29226</th>\n",
       "      <td>BHR</td>\n",
       "      <td>Asia</td>\n",
       "      <td>Bahrain</td>\n",
       "      <td>2022-01-28</td>\n",
       "      <td>327466.0</td>\n",
       "      <td>0.0</td>\n",
       "      <td>3150.286</td>\n",
       "      <td>1399.0</td>\n",
       "      <td>0.0</td>\n",
       "      <td>0.143</td>\n",
       "      <td>...</td>\n",
       "      <td>37.6</td>\n",
       "      <td>NaN</td>\n",
       "      <td>2.00</td>\n",
       "      <td>77.29</td>\n",
       "      <td>0.852</td>\n",
       "      <td>1472237</td>\n",
       "      <td>NaN</td>\n",
       "      <td>NaN</td>\n",
       "      <td>NaN</td>\n",
       "      <td>NaN</td>\n",
       "    </tr>\n",
       "    <tr>\n",
       "      <th>55171</th>\n",
       "      <td>BRN</td>\n",
       "      <td>Asia</td>\n",
       "      <td>Brunei</td>\n",
       "      <td>2024-05-12</td>\n",
       "      <td>344145.0</td>\n",
       "      <td>125.0</td>\n",
       "      <td>17.857</td>\n",
       "      <td>178.0</td>\n",
       "      <td>0.0</td>\n",
       "      <td>0.000</td>\n",
       "      <td>...</td>\n",
       "      <td>30.9</td>\n",
       "      <td>NaN</td>\n",
       "      <td>2.70</td>\n",
       "      <td>75.86</td>\n",
       "      <td>0.838</td>\n",
       "      <td>449002</td>\n",
       "      <td>NaN</td>\n",
       "      <td>NaN</td>\n",
       "      <td>NaN</td>\n",
       "      <td>NaN</td>\n",
       "    </tr>\n",
       "    <tr>\n",
       "      <th>274353</th>\n",
       "      <td>NGA</td>\n",
       "      <td>Africa</td>\n",
       "      <td>Nigeria</td>\n",
       "      <td>2021-06-04</td>\n",
       "      <td>166285.0</td>\n",
       "      <td>0.0</td>\n",
       "      <td>43.714</td>\n",
       "      <td>2071.0</td>\n",
       "      <td>0.0</td>\n",
       "      <td>0.571</td>\n",
       "      <td>...</td>\n",
       "      <td>10.8</td>\n",
       "      <td>41.949</td>\n",
       "      <td>NaN</td>\n",
       "      <td>54.69</td>\n",
       "      <td>0.539</td>\n",
       "      <td>218541216</td>\n",
       "      <td>NaN</td>\n",
       "      <td>NaN</td>\n",
       "      <td>NaN</td>\n",
       "      <td>NaN</td>\n",
       "    </tr>\n",
       "    <tr>\n",
       "      <th>231581</th>\n",
       "      <td>MDV</td>\n",
       "      <td>Asia</td>\n",
       "      <td>Maldives</td>\n",
       "      <td>2023-07-07</td>\n",
       "      <td>186687.0</td>\n",
       "      <td>0.0</td>\n",
       "      <td>0.571</td>\n",
       "      <td>316.0</td>\n",
       "      <td>0.0</td>\n",
       "      <td>0.000</td>\n",
       "      <td>...</td>\n",
       "      <td>55.0</td>\n",
       "      <td>95.803</td>\n",
       "      <td>NaN</td>\n",
       "      <td>78.92</td>\n",
       "      <td>0.740</td>\n",
       "      <td>523798</td>\n",
       "      <td>NaN</td>\n",
       "      <td>NaN</td>\n",
       "      <td>NaN</td>\n",
       "      <td>NaN</td>\n",
       "    </tr>\n",
       "    <tr>\n",
       "      <th>162233</th>\n",
       "      <td>HTI</td>\n",
       "      <td>North America</td>\n",
       "      <td>Haiti</td>\n",
       "      <td>2020-03-05</td>\n",
       "      <td>0.0</td>\n",
       "      <td>0.0</td>\n",
       "      <td>0.000</td>\n",
       "      <td>0.0</td>\n",
       "      <td>0.0</td>\n",
       "      <td>0.000</td>\n",
       "      <td>...</td>\n",
       "      <td>23.1</td>\n",
       "      <td>22.863</td>\n",
       "      <td>0.70</td>\n",
       "      <td>64.00</td>\n",
       "      <td>0.510</td>\n",
       "      <td>11585003</td>\n",
       "      <td>NaN</td>\n",
       "      <td>NaN</td>\n",
       "      <td>NaN</td>\n",
       "      <td>NaN</td>\n",
       "    </tr>\n",
       "    <tr>\n",
       "      <th>331198</th>\n",
       "      <td>WSM</td>\n",
       "      <td>Oceania</td>\n",
       "      <td>Samoa</td>\n",
       "      <td>2020-02-23</td>\n",
       "      <td>0.0</td>\n",
       "      <td>0.0</td>\n",
       "      <td>0.000</td>\n",
       "      <td>0.0</td>\n",
       "      <td>0.0</td>\n",
       "      <td>0.000</td>\n",
       "      <td>...</td>\n",
       "      <td>38.1</td>\n",
       "      <td>NaN</td>\n",
       "      <td>NaN</td>\n",
       "      <td>73.32</td>\n",
       "      <td>0.715</td>\n",
       "      <td>222390</td>\n",
       "      <td>NaN</td>\n",
       "      <td>NaN</td>\n",
       "      <td>NaN</td>\n",
       "      <td>NaN</td>\n",
       "    </tr>\n",
       "  </tbody>\n",
       "</table>\n",
       "<p>10 rows × 67 columns</p>\n",
       "</div>"
      ],
      "text/plain": [
       "       iso_code      continent                location        date  \\\n",
       "114676      EST         Europe                 Estonia  2023-02-15   \n",
       "232126      MLI         Africa                    Mali  2020-06-03   \n",
       "47797       BIH         Europe  Bosnia and Herzegovina  2022-07-04   \n",
       "189535      JPN           Asia                   Japan  2022-07-02   \n",
       "29226       BHR           Asia                 Bahrain  2022-01-28   \n",
       "55171       BRN           Asia                  Brunei  2024-05-12   \n",
       "274353      NGA         Africa                 Nigeria  2021-06-04   \n",
       "231581      MDV           Asia                Maldives  2023-07-07   \n",
       "162233      HTI  North America                   Haiti  2020-03-05   \n",
       "331198      WSM        Oceania                   Samoa  2020-02-23   \n",
       "\n",
       "        total_cases  new_cases  new_cases_smoothed  total_deaths  new_deaths  \\\n",
       "114676     596851.0        0.0              46.857        2801.0         0.0   \n",
       "232126       1248.0        0.0              33.571          76.0         0.0   \n",
       "47797      378845.0        0.0              55.429       15806.0         0.0   \n",
       "189535    9253386.0        0.0           14807.571       31139.0         0.0   \n",
       "29226      327466.0        0.0            3150.286        1399.0         0.0   \n",
       "55171      344145.0      125.0              17.857         178.0         0.0   \n",
       "274353     166285.0        0.0              43.714        2071.0         0.0   \n",
       "231581     186687.0        0.0               0.571         316.0         0.0   \n",
       "162233          0.0        0.0               0.000           0.0         0.0   \n",
       "331198          0.0        0.0               0.000           0.0         0.0   \n",
       "\n",
       "        new_deaths_smoothed  ...  male_smokers  handwashing_facilities  \\\n",
       "114676                1.000  ...          39.3                     NaN   \n",
       "232126                1.857  ...          23.0                  52.232   \n",
       "47797                 1.000  ...          47.7                  97.164   \n",
       "189535               13.429  ...          33.7                     NaN   \n",
       "29226                 0.143  ...          37.6                     NaN   \n",
       "55171                 0.000  ...          30.9                     NaN   \n",
       "274353                0.571  ...          10.8                  41.949   \n",
       "231581                0.000  ...          55.0                  95.803   \n",
       "162233                0.000  ...          23.1                  22.863   \n",
       "331198                0.000  ...          38.1                     NaN   \n",
       "\n",
       "        hospital_beds_per_thousand  life_expectancy  human_development_index  \\\n",
       "114676                        4.69            78.74                    0.892   \n",
       "232126                        0.10            59.31                    0.434   \n",
       "47797                         3.50            77.40                    0.780   \n",
       "189535                       13.05            84.63                    0.919   \n",
       "29226                         2.00            77.29                    0.852   \n",
       "55171                         2.70            75.86                    0.838   \n",
       "274353                         NaN            54.69                    0.539   \n",
       "231581                         NaN            78.92                    0.740   \n",
       "162233                        0.70            64.00                    0.510   \n",
       "331198                         NaN            73.32                    0.715   \n",
       "\n",
       "        population  excess_mortality_cumulative_absolute  \\\n",
       "114676     1326064                                   NaN   \n",
       "232126    22593598                                   NaN   \n",
       "47797      3233530                                   NaN   \n",
       "189535   123951696                                   NaN   \n",
       "29226      1472237                                   NaN   \n",
       "55171       449002                                   NaN   \n",
       "274353   218541216                                   NaN   \n",
       "231581      523798                                   NaN   \n",
       "162233    11585003                                   NaN   \n",
       "331198      222390                                   NaN   \n",
       "\n",
       "        excess_mortality_cumulative  excess_mortality  \\\n",
       "114676                          NaN               NaN   \n",
       "232126                          NaN               NaN   \n",
       "47797                           NaN               NaN   \n",
       "189535                          NaN               NaN   \n",
       "29226                           NaN               NaN   \n",
       "55171                           NaN               NaN   \n",
       "274353                          NaN               NaN   \n",
       "231581                          NaN               NaN   \n",
       "162233                          NaN               NaN   \n",
       "331198                          NaN               NaN   \n",
       "\n",
       "        excess_mortality_cumulative_per_million  \n",
       "114676                                      NaN  \n",
       "232126                                      NaN  \n",
       "47797                                       NaN  \n",
       "189535                                      NaN  \n",
       "29226                                       NaN  \n",
       "55171                                       NaN  \n",
       "274353                                      NaN  \n",
       "231581                                      NaN  \n",
       "162233                                      NaN  \n",
       "331198                                      NaN  \n",
       "\n",
       "[10 rows x 67 columns]"
      ]
     },
     "execution_count": 10,
     "metadata": {},
     "output_type": "execute_result"
    }
   ],
   "source": [
    "df.sample(10)"
   ]
  },
  {
   "cell_type": "code",
   "execution_count": 9,
   "id": "68bf8cb0-089d-423e-98cb-7a110fe157f3",
   "metadata": {},
   "outputs": [
    {
     "data": {
      "text/plain": [
       "dtype('O')"
      ]
     },
     "execution_count": 9,
     "metadata": {},
     "output_type": "execute_result"
    }
   ],
   "source": [
    "df['date'].dtype   # ho notato che date era trattata come stringa, quindi ho convertito il dato in datetime"
   ]
  },
  {
   "cell_type": "code",
   "execution_count": 11,
   "id": "b0e68c10-08da-4256-be82-398ffd0ffea8",
   "metadata": {},
   "outputs": [],
   "source": [
    "df['date']=pd.to_datetime(df['date'])"
   ]
  },
  {
   "cell_type": "code",
   "execution_count": 12,
   "id": "ae45fb4c-c851-45b9-9d5f-d3ed39489474",
   "metadata": {},
   "outputs": [
    {
     "name": "stdout",
     "output_type": "stream",
     "text": [
      "datetime64[ns]\n"
     ]
    }
   ],
   "source": [
    "print(df['date'].dtype)"
   ]
  },
  {
   "cell_type": "code",
   "execution_count": 18,
   "id": "095ea5c3-e6d0-4744-802f-9d7dce9e9d79",
   "metadata": {},
   "outputs": [
    {
     "data": {
      "text/plain": [
       "\" 2. Si chiede di trovare, per ogni continente: \\na. il numero di casi fin dall'inizio della pandemia \""
      ]
     },
     "execution_count": 18,
     "metadata": {},
     "output_type": "execute_result"
    }
   ],
   "source": [
    "''' 2. Si chiede di trovare, per ogni continente: \n",
    "a. il numero di casi fin dall'inizio della pandemia '''"
   ]
  },
  {
   "cell_type": "code",
   "execution_count": 14,
   "id": "42d807af-69cf-4a65-a26b-914be04b1a4e",
   "metadata": {},
   "outputs": [],
   "source": [
    "idx = df.groupby('continent')['date'].idxmax()"
   ]
  },
  {
   "cell_type": "code",
   "execution_count": 15,
   "id": "8ac6473c-c21c-4972-a4d5-177279012bf3",
   "metadata": {},
   "outputs": [],
   "source": [
    "totale_casi_per_continente = df.loc[idx, ['continent', 'total_cases']].set_index('continent')['total_cases']"
   ]
  },
  {
   "cell_type": "code",
   "execution_count": 16,
   "id": "ebf2d13f-76d9-4435-8f2e-3b57f6dc2b8a",
   "metadata": {},
   "outputs": [
    {
     "name": "stdout",
     "output_type": "stream",
     "text": [
      "continent\n",
      "Africa             272139.0\n",
      "Asia                    NaN\n",
      "Europe                  NaN\n",
      "North America        3904.0\n",
      "Oceania                 NaN\n",
      "South America    10101218.0\n",
      "Name: total_cases, dtype: float64\n"
     ]
    }
   ],
   "source": [
    "print(totale_casi_per_continente)"
   ]
  },
  {
   "cell_type": "code",
   "execution_count": 39,
   "id": "daf41fea-3382-42d9-828c-ce17dbfb3d6a",
   "metadata": {},
   "outputs": [
    {
     "data": {
      "text/plain": [
       "\" essendo la colonna total_cases comulativa, pensavo di prendere\\n    l'ultimo valore utile, ma non va bene \""
      ]
     },
     "execution_count": 39,
     "metadata": {},
     "output_type": "execute_result"
    }
   ],
   "source": [
    "''' essendo la colonna total_cases comulativa, pensavo di prendere\n",
    "    l'ultimo valore utile, ma non va bene '''"
   ]
  },
  {
   "cell_type": "code",
   "execution_count": 13,
   "id": "be305b5d-b625-4472-bd09-390975aededd",
   "metadata": {},
   "outputs": [],
   "source": [
    "df['new_cases'] = df['new_cases'].fillna(0)"
   ]
  },
  {
   "cell_type": "code",
   "execution_count": 14,
   "id": "e3028d03-29fd-42a6-be8e-71ac9032ec73",
   "metadata": {},
   "outputs": [],
   "source": [
    "totale_casi_per_continente_2 = df.groupby('continent')['new_cases'].sum()"
   ]
  },
  {
   "cell_type": "code",
   "execution_count": 16,
   "id": "014a802e-fa2e-4b1a-aae2-5a86679ca0b8",
   "metadata": {},
   "outputs": [
    {
     "name": "stdout",
     "output_type": "stream",
     "text": [
      "continent\n",
      "Africa            13146831.0\n",
      "Asia             301564180.0\n",
      "Europe           252916868.0\n",
      "North America    124492698.0\n",
      "Oceania           15003468.0\n",
      "South America     68811012.0\n",
      "Name: new_cases, dtype: float64\n"
     ]
    }
   ],
   "source": [
    "print(totale_casi_per_continente_2)   # ho preso quindi la colonna new_cases"
   ]
  },
  {
   "cell_type": "code",
   "execution_count": 52,
   "id": "331208e2-95a9-4e09-bfc7-6f83bc644659",
   "metadata": {},
   "outputs": [],
   "source": [
    "# b. la percentuale rispetto al totale mondiale del numero di casi"
   ]
  },
  {
   "cell_type": "code",
   "execution_count": 60,
   "id": "86ab4349-6db4-4221-a8d5-64350255a63f",
   "metadata": {},
   "outputs": [],
   "source": [
    "totale_casi_perc=totale_casi_per_continente_2/totale_casi_per_continente_2.sum()*100"
   ]
  },
  {
   "cell_type": "code",
   "execution_count": 61,
   "id": "270bbddb-d7df-4e49-bc20-f49024119c1b",
   "metadata": {},
   "outputs": [
    {
     "name": "stdout",
     "output_type": "stream",
     "text": [
      "continent\n",
      "Africa            1.694321\n",
      "Asia             38.864616\n",
      "Europe           32.595108\n",
      "North America    16.044216\n",
      "Oceania           1.933598\n",
      "South America     8.868141\n",
      "Name: new_cases, dtype: float64\n"
     ]
    }
   ],
   "source": [
    "print(totale_casi_perc)"
   ]
  },
  {
   "cell_type": "code",
   "execution_count": 76,
   "id": "878b2c16-3e9d-4d09-873e-709976a7bd99",
   "metadata": {},
   "outputs": [
    {
     "data": {
      "text/plain": [
       "\"3. Selezionare i dati relativi all'Italia nel 2022 e, \\npoiché i nuovi casi vengono registrati settimanalmente, \\nfiltrare via i giorni che non hanno misurazioni; \\nquindi mostrare con dei grafici adeguati: \\na. l'evoluzione dei casi totali dall'inizio alla fine dell'anno \""
      ]
     },
     "execution_count": 76,
     "metadata": {},
     "output_type": "execute_result"
    }
   ],
   "source": [
    "'''3. Selezionare i dati relativi all'Italia nel 2022 e, \n",
    "poiché i nuovi casi vengono registrati settimanalmente, \n",
    "filtrare via i giorni che non hanno misurazioni; \n",
    "quindi mostrare con dei grafici adeguati: \n",
    "a. l'evoluzione dei casi totali dall'inizio alla fine dell'anno '''"
   ]
  },
  {
   "cell_type": "code",
   "execution_count": 62,
   "id": "a90ae0c9-258d-4aae-9d7d-1f4373efcbc1",
   "metadata": {},
   "outputs": [
    {
     "data": {
      "text/plain": [
       "' creo un filtro Italia_2022\\n    poi prendo le righe new_cases non null\\n    poi importo seaborn '"
      ]
     },
     "execution_count": 62,
     "metadata": {},
     "output_type": "execute_result"
    }
   ],
   "source": [
    "''' creo un filtro Italia_2022\n",
    "    poi prendo le righe new_cases non null\n",
    "    poi importo seaborn '''"
   ]
  },
  {
   "cell_type": "code",
   "execution_count": 63,
   "id": "8e864085-47c4-496f-9172-714af72cb189",
   "metadata": {},
   "outputs": [],
   "source": [
    "df['date'] = pd.to_datetime(df['date'])"
   ]
  },
  {
   "cell_type": "code",
   "execution_count": 64,
   "id": "c9a3a461-e247-47a4-8cfc-e32eb30143b6",
   "metadata": {},
   "outputs": [],
   "source": [
    "italia_2022 = df[\n",
    "    (df['location'] == 'Italy') & \n",
    "    (df['date'].dt.year == 2022)\n",
    "]"
   ]
  },
  {
   "cell_type": "code",
   "execution_count": 65,
   "id": "6e477f38-650b-48d0-a44f-8b18b78849a8",
   "metadata": {},
   "outputs": [],
   "source": [
    "italia_2022 = italia_2022[italia_2022['new_cases'].notna()]"
   ]
  },
  {
   "cell_type": "code",
   "execution_count": 79,
   "id": "af10778f-11f5-4c40-8e98-99816cf39729",
   "metadata": {},
   "outputs": [],
   "source": [
    "import seaborn as sns\n",
    "import matplotlib.pyplot as plt"
   ]
  },
  {
   "cell_type": "code",
   "execution_count": 84,
   "id": "cfa82f3a-33e6-45b9-a414-68f9eaf9c551",
   "metadata": {},
   "outputs": [
    {
     "data": {
      "image/png": "[encoded data removed]",
      "text/plain": [
       "<Figure size 1400x600 with 1 Axes>"
      ]
     },
     "metadata": {},
     "output_type": "display_data"
    }
   ],
   "source": [
    "plt.figure(figsize=(14, 6))\n",
    "sns.lineplot(data=italia_2022, x='date', y='total_cases', marker='o', color='darkblue')\n",
    "plt.title('Evoluzione dei casi totali COVID-19 in Italia (2022)', fontsize=14)\n",
    "plt.xlabel('Data')\n",
    "plt.ylabel('Casi totali')\n",
    "plt.xticks(rotation=45)\n",
    "plt.tight_layout()\n",
    "plt.show()"
   ]
  },
  {
   "cell_type": "code",
   "execution_count": 77,
   "id": "42d6a3af-c873-4445-9f50-b8cbb75b9fde",
   "metadata": {},
   "outputs": [],
   "source": [
    "# b. il numero di nuovi casi rispetto alla data."
   ]
  },
  {
   "cell_type": "code",
   "execution_count": 83,
   "id": "0b0798f8-44be-41a7-b0f0-b5e2f40c26a4",
   "metadata": {},
   "outputs": [
    {
     "data": {
      "image/png": "[encoded data removed]",
      "text/plain": [
       "<Figure size 1400x600 with 1 Axes>"
      ]
     },
     "metadata": {},
     "output_type": "display_data"
    }
   ],
   "source": [
    "plt.figure(figsize=(14, 6))\n",
    "sns.lineplot(data=italia_2022, x='date', y='new_cases', marker='o', color='darkblue')\n",
    "plt.title('Nuovi casi COVID-19 in Italia (2022)', fontsize=14)\n",
    "plt.xlabel('Data')\n",
    "plt.ylabel('Nuovi casi')\n",
    "plt.xticks(rotation=45)\n",
    "plt.tight_layout()\n",
    "plt.show()"
   ]
  },
  {
   "cell_type": "code",
   "execution_count": 85,
   "id": "992d1b77-6fac-412d-a47e-ac27faf1db17",
   "metadata": {},
   "outputs": [
    {
     "data": {
      "text/plain": [
       "' 4. Riguardo le nazioni di Italia, Germania e Francia:\\n        a.mostrare in un boxplot la differenza tra queste nazioni \\n        riguardo il numero di pazienti in terapia intensiva \\n        (Intensive Care Unit, ICU, considerare quindi la colonna icu_patients) \\n        da maggio 2022 (incluso) ad aprile 2023 (incluso) '"
      ]
     },
     "execution_count": 85,
     "metadata": {},
     "output_type": "execute_result"
    }
   ],
   "source": [
    "''' 4. Riguardo le nazioni di Italia, Germania e Francia:\n",
    "        a.mostrare in un boxplot la differenza tra queste nazioni \n",
    "        riguardo il numero di pazienti in terapia intensiva \n",
    "        (Intensive Care Unit, ICU, considerare quindi la colonna icu_patients) \n",
    "        da maggio 2022 (incluso) ad aprile 2023 (incluso) '''"
   ]
  },
  {
   "cell_type": "code",
   "execution_count": 86,
   "id": "5fc8992a-e832-4e33-b628-a736a03bfb4e",
   "metadata": {},
   "outputs": [
    {
     "data": {
      "text/plain": [
       "' creo un filtro dei tre paesi\\n    filtro il periodo maggio 2022 - aprile 2023\\n    tolgo i valori nulli\\n    boxplot '"
      ]
     },
     "execution_count": 86,
     "metadata": {},
     "output_type": "execute_result"
    }
   ],
   "source": [
    "''' creo un filtro dei tre paesi\n",
    "    filtro il periodo maggio 2022 - aprile 2023\n",
    "    tolgo i valori nulli\n",
    "    boxplot '''"
   ]
  },
  {
   "cell_type": "code",
   "execution_count": 87,
   "id": "a7e312bf-a969-4cd0-9644-c63e7f462d35",
   "metadata": {},
   "outputs": [],
   "source": [
    "paesi = ['Italy', 'Germany', 'France']"
   ]
  },
  {
   "cell_type": "code",
   "execution_count": 88,
   "id": "86e0a663-b710-4f78-aede-c2a98e367467",
   "metadata": {},
   "outputs": [],
   "source": [
    "df_3paesi = df[df['location'].isin(paesi)]"
   ]
  },
  {
   "cell_type": "code",
   "execution_count": 89,
   "id": "db38aa27-0fc6-44ec-a943-a1d0587ae693",
   "metadata": {},
   "outputs": [],
   "source": [
    "mask_date = (df_3paesi['date'] >= '2022-05-01') & (df_3paesi['date'] <= '2023-04-30')\n",
    "df_periodo = df_3paesi[mask_date]"
   ]
  },
  {
   "cell_type": "code",
   "execution_count": 90,
   "id": "38c91588-5a69-422e-967a-bdd62e8f275c",
   "metadata": {},
   "outputs": [],
   "source": [
    "df_periodo = df_periodo.dropna(subset=['icu_patients'])"
   ]
  },
  {
   "cell_type": "code",
   "execution_count": 92,
   "id": "53844613-e90c-4d6f-b237-1f1ab06a9b51",
   "metadata": {},
   "outputs": [
    {
     "data": {
      "image/png": "[encoded data removed]",
      "text/plain": [
       "<Figure size 1000x600 with 1 Axes>"
      ]
     },
     "metadata": {},
     "output_type": "display_data"
    }
   ],
   "source": [
    "plt.figure(figsize=(10, 6))\n",
    "sns.boxplot(\n",
    "    data=df_periodo, \n",
    "    x='location', \n",
    "    y='icu_patients',\n",
    "    hue='location', \n",
    "    palette='Set2', \n",
    "    legend=False\n",
    ")\n",
    "\n",
    "plt.title('Confronto ICU Patients (maggio 2022 - aprile 2023)', fontsize=14)\n",
    "plt.xlabel('Paese')\n",
    "plt.ylabel('Pazienti in terapia intensiva (ICU)')\n",
    "plt.tight_layout()\n",
    "plt.show()"
   ]
  },
  {
   "cell_type": "code",
   "execution_count": 93,
   "id": "e18d4955-fbad-410e-9b88-a6230a8b47db",
   "metadata": {},
   "outputs": [
    {
     "data": {
      "text/plain": [
       "' b. scrivere un breve commento (una o due righe) \\nriguardo che conclusioni possiamo trarre osservando il grafico risultante '"
      ]
     },
     "execution_count": 93,
     "metadata": {},
     "output_type": "execute_result"
    }
   ],
   "source": [
    "''' b. scrivere un breve commento (una o due righe) \n",
    "riguardo che conclusioni possiamo trarre osservando il grafico risultante '''"
   ]
  },
  {
   "cell_type": "code",
   "execution_count": 2,
   "id": "887aa3ab-cb0c-4dc0-8673-69dd82431458",
   "metadata": {},
   "outputs": [
    {
     "data": {
      "text/plain": [
       "\" dal grafico possiamo vedere come l'Italia abbia avuto meno ricoveri in terapia intensiva rispetto a Francia e Germania ed anche i valori piu' estremi sono contenuti.\\n    Germania e Francia di contro hanno avuto dei picchi maggiori, forse dovuti ad una gestione diversa dei ricoverati in terapia intensiva \""
      ]
     },
     "execution_count": 2,
     "metadata": {},
     "output_type": "execute_result"
    }
   ],
   "source": [
    "''' dal grafico possiamo vedere come l'Italia abbia avuto meno ricoveri in terapia intensiva rispetto a Francia e Germania ed anche i valori piu' estremi sono contenuti.\n",
    "    Germania e Francia di contro hanno avuto dei picchi maggiori, forse dovuti ad una gestione diversa dei ricoverati in terapia intensiva '''"
   ]
  },
  {
   "cell_type": "code",
   "execution_count": 95,
   "id": "34bf5b46-2298-468a-9cf7-df268a7967da",
   "metadata": {},
   "outputs": [
    {
     "data": {
      "text/plain": [
       "' 5. Riguardo le nazioni di Italia, Germania, Francia e Spagna in tutto il 2021:\\n        a. mostrare, in maniera grafica oppure numerica, la somma dei pazienti ospitalizzati \\n        per ognuna (colonna hosp_patients) '"
      ]
     },
     "execution_count": 95,
     "metadata": {},
     "output_type": "execute_result"
    }
   ],
   "source": [
    "''' 5. Riguardo le nazioni di Italia, Germania, Francia e Spagna in tutto il 2021:\n",
    "        a. mostrare, in maniera grafica oppure numerica, la somma dei pazienti ospitalizzati \n",
    "        per ognuna (colonna hosp_patients) '''"
   ]
  },
  {
   "cell_type": "code",
   "execution_count": 14,
   "id": "7e371c78-a617-47c0-a70e-ecac53d39b75",
   "metadata": {},
   "outputs": [],
   "source": [
    "nazioni = ['Italy', 'Germany', 'France', 'Spain']\n",
    "df_2021 = df[\n",
    "    (df['location'].isin(nazioni)) &\n",
    "    (df['date'].dt.year == 2021)\n",
    "]"
   ]
  },
  {
   "cell_type": "code",
   "execution_count": 15,
   "id": "3576a22e-74da-407a-8369-cc6a96f2906c",
   "metadata": {},
   "outputs": [],
   "source": [
    "totale_ospedalizzati = df_2021.groupby('location')['hosp_patients'].sum(min_count=1)\n"
   ]
  },
  {
   "cell_type": "code",
   "execution_count": 16,
   "id": "d3583530-d996-4b37-8d40-c7ee8aa35a1f",
   "metadata": {
    "scrolled": true
   },
   "outputs": [
    {
     "name": "stdout",
     "output_type": "stream",
     "text": [
      "location\n",
      "France     6008717.0\n",
      "Germany          NaN\n",
      "Italy      4419950.0\n",
      "Spain      2411706.0\n",
      "Name: hosp_patients, dtype: float64\n"
     ]
    }
   ],
   "source": [
    "print(totale_ospedalizzati)"
   ]
  },
  {
   "cell_type": "code",
   "execution_count": 99,
   "id": "6cf7b71a-b600-4c93-b397-02f712c8c0de",
   "metadata": {},
   "outputs": [
    {
     "data": {
      "text/plain": [
       "' b. se ci sono dati nulli, con un breve commento \\nscrivere se può essere possibile \\ngestirli tramite sostituzione o meno '"
      ]
     },
     "execution_count": 99,
     "metadata": {},
     "output_type": "execute_result"
    }
   ],
   "source": [
    "''' b. se ci sono dati nulli, con un breve commento \n",
    "scrivere se può essere possibile \n",
    "gestirli tramite sostituzione o meno '''"
   ]
  },
  {
   "cell_type": "code",
   "execution_count": 3,
   "id": "a77b5fab-ff3c-48b6-ad2f-ffbda6af74a1",
   "metadata": {},
   "outputs": [
    {
     "data": {
      "text/plain": [
       "\" Per la germania non abbiamo dati per le ospedalizzazioni, quindi non è possibile fare dei confronti tra i vari paesi. \\n    In alternativa ho voluto prendere i dati delle weekly_admission , che non è propriamente un dato sostitutivo per la richiesta che ci ha dato il committente,\\n    ma puo' comunque restituire un dato di paragone alternativo.\\n    Altra soluzione sarebbe stata andare a prendere direttamente il dato nel ministero della salute tedesco, o qualcosa di similare ed inserirlo direttamente.\\n    Altra soluzione sarebbe stata parlare con il committente e fargli presente questa incongruenza tra dati mancanti e richiesta \""
      ]
     },
     "execution_count": 3,
     "metadata": {},
     "output_type": "execute_result"
    }
   ],
   "source": [
    "''' Per la germania non abbiamo dati per le ospedalizzazioni, quindi non è possibile fare dei confronti tra i vari paesi. \n",
    "    In alternativa ho voluto prendere i dati delle weekly_admission , che non è propriamente un dato sostitutivo per la richiesta che ci ha dato il committente,\n",
    "    ma puo' comunque restituire un dato di paragone alternativo.\n",
    "    Altra soluzione sarebbe stata andare a prendere direttamente il dato nel ministero della salute tedesco, o qualcosa di similare ed inserirlo direttamente.\n",
    "    Altra soluzione sarebbe stata parlare con il committente e fargli presente questa incongruenza tra dati mancanti e richiesta '''"
   ]
  },
  {
   "cell_type": "code",
   "execution_count": 17,
   "id": "9405b49f-d2c1-4fb3-99c4-2a65a950abd5",
   "metadata": {},
   "outputs": [],
   "source": [
    "df_2021_weekly = df[\n",
    "    (df['location'].isin(nazioni)) &\n",
    "    (df['date'].dt.year == 2021)\n",
    "]"
   ]
  },
  {
   "cell_type": "code",
   "execution_count": 18,
   "id": "ddf28eba-f415-408b-b1ac-c88d8f69e72b",
   "metadata": {},
   "outputs": [],
   "source": [
    "totale_admissioni_settimanali = df_2021_weekly.groupby('location')['weekly_hosp_admissions'].sum(min_count=1)\n"
   ]
  },
  {
   "cell_type": "code",
   "execution_count": 19,
   "id": "52ab511c-99ff-4b37-9cdd-2a83e57f5a23",
   "metadata": {},
   "outputs": [
    {
     "name": "stdout",
     "output_type": "stream",
     "text": [
      "location\n",
      "France     2262365.0\n",
      "Germany    1826264.0\n",
      "Italy      1652358.0\n",
      "Spain      2068304.0\n",
      "Name: weekly_hosp_admissions, dtype: float64\n"
     ]
    }
   ],
   "source": [
    "print(totale_admissioni_settimanali)"
   ]
  },
  {
   "cell_type": "code",
   "execution_count": 20,
   "id": "1e64c6a8-464f-457c-85bc-33db167f1be2",
   "metadata": {},
   "outputs": [],
   "source": [
    "df_2021_milion = df[\n",
    "    (df['location'].isin(nazioni)) &\n",
    "    (df['date'].dt.year == 2021)\n",
    "]"
   ]
  },
  {
   "cell_type": "code",
   "execution_count": 21,
   "id": "a113b57a-6963-48e9-aff3-8ae05573b0d3",
   "metadata": {},
   "outputs": [],
   "source": [
    "totale_ospedalizzati_per_milione = df_2021_milion.groupby('location')['hosp_patients_per_million'].sum(min_count=1)"
   ]
  },
  {
   "cell_type": "code",
   "execution_count": 22,
   "id": "915c8b72-f6fe-4517-bced-e9246acfa6e3",
   "metadata": {},
   "outputs": [
    {
     "name": "stdout",
     "output_type": "stream",
     "text": [
      "location\n",
      "France     88607.162\n",
      "Germany          NaN\n",
      "Italy      74866.848\n",
      "Spain      50710.176\n",
      "Name: hosp_patients_per_million, dtype: float64\n"
     ]
    }
   ],
   "source": [
    "print(totale_ospedalizzati_per_milione)"
   ]
  },
  {
   "cell_type": "code",
   "execution_count": null,
   "id": "67f08da9-8397-4261-9515-7df32706cb98",
   "metadata": {},
   "outputs": [],
   "source": []
  }
 ],
 "metadata": {
  "kernelspec": {
   "display_name": "Python 3 (ipykernel)",
   "language": "python",
   "name": "python3"
  },
  "language_info": {
   "codemirror_mode": {
    "name": "ipython",
    "version": 3
   },
   "file_extension": ".py",
   "mimetype": "text/x-python",
   "name": "python",
   "nbconvert_exporter": "python",
   "pygments_lexer": "ipython3",
   "version": "3.12.7"
  }
 },
 "nbformat": 4,
 "nbformat_minor": 5
}
